{
 "cells": [
  {
   "cell_type": "markdown",
   "metadata": {},
   "source": [
    "# Machine Learning with Optimus\n",
    "\n",
    "Machine Learning is one of the last steps, and the goal for most Data Science WorkFlows.\n",
    "\n",
    "Apache Spark created a library called MLlib where they coded great algorithms for Machine Learning. Now with the ML library we can take advantage of the Dataframe API and its optimization to create easily Machine Learning Pipelines.\n",
    "\n",
    "Even though this task is not extremely hard, is not easy. The way most Machine Learning models work on Spark are not straightforward, and they need lots feature engineering to work. That’s why we created the feature engineering section inside the Transformer.\n",
    "\n",
    "To import the Machine Learning Library you just need to import Optimus:"
   ]
  },
  {
   "cell_type": "code",
   "execution_count": 1,
   "metadata": {},
   "outputs": [
    {
     "data": {
      "text/html": [
       "<div>Starting or getting SparkSession and SparkContext.</div>"
      ],
      "text/plain": [
       "<IPython.core.display.HTML object>"
      ]
     },
     "metadata": {},
     "output_type": "display_data"
    },
    {
     "data": {
      "text/html": [
       "<div>Setting checkpoint folder (local). If you are in a cluster change it with set_check_point_folder(path,'hadoop').</div>"
      ],
      "text/plain": [
       "<IPython.core.display.HTML object>"
      ]
     },
     "metadata": {},
     "output_type": "display_data"
    },
    {
     "name": "stdout",
     "output_type": "stream",
     "text": [
      "Deleting previous folder if exists...\n",
      "Creation of checkpoint directory...\n",
      "Done.\n"
     ]
    },
    {
     "data": {
      "text/html": [
       "\n",
       "        <div style=\"margin:10px\">\n",
       "            <a href=\"https://github.com/ironmussa/Optimus\" target=\"_new\">\n",
       "                <img src=\"https://github.com/ironmussa/Optimus/raw/master/images/robotOptimus.png\" style=\"float:left;margin-right:10px;vertical-align:top;text-align:center\" height=\"50\" width=\"50\"/>\n",
       "            </a>\n",
       "            <span><b><h2>Optimus successfully imported. Have fun :).</h2></b></span>\n",
       "        </div>\n",
       "        "
      ],
      "text/plain": [
       "<IPython.core.display.HTML object>"
      ]
     },
     "metadata": {},
     "output_type": "display_data"
    }
   ],
   "source": [
    "# Importing Optimus\n",
    "import optimus as op"
   ]
  },
  {
   "cell_type": "markdown",
   "metadata": {},
   "source": [
    "Now with Optimus you can use this really easy feature engineering with our Machine Learning Library.\n",
    "\n",
    "Let’s take a look of what Optimus can do for you:"
   ]
  },
  {
   "cell_type": "markdown",
   "metadata": {},
   "source": [
    "## ml.logistic_regression_text(df, input_col)"
   ]
  },
  {
   "cell_type": "markdown",
   "metadata": {},
   "source": [
    "This method runs a logistic regression for input (text) DataFrame.\n",
    "\n",
    "Let’s create a sample dataframe to see how it works."
   ]
  },
  {
   "cell_type": "code",
   "execution_count": 2,
   "metadata": {},
   "outputs": [
    {
     "name": "stdout",
     "output_type": "stream",
     "text": [
      "+-----+--------------------+\n",
      "|label|            sentence|\n",
      "+-----+--------------------+\n",
      "|  0.0|      this is a test|\n",
      "|  1.0|this is another test|\n",
      "+-----+--------------------+\n",
      "\n"
     ]
    }
   ],
   "source": [
    "# Import Row from pyspark\n",
    "from pyspark.sql import Row\n",
    "# Importing Optimus\n",
    "import optimus as op\n",
    "\n",
    "df = op.sc. \\\n",
    "    parallelize([Row(sentence='this is a test', label=0.),\n",
    "                 Row(sentence='this is another test', label=1.)]). \\\n",
    "    toDF()\n",
    "\n",
    "df.show()"
   ]
  },
  {
   "cell_type": "code",
   "execution_count": 3,
   "metadata": {
    "collapsed": true
   },
   "outputs": [],
   "source": [
    "df_predict, ml_model = op.ml.logistic_regression_text(df, \"sentence\")"
   ]
  },
  {
   "cell_type": "markdown",
   "metadata": {},
   "source": [
    "This instruction will return two things, first the DataFrame with predictions and steps to build it with a pipeline and a Spark machine learning model where the third step will be the logistic regression.\n",
    "\n",
    "The columns of df_predict are:"
   ]
  },
  {
   "cell_type": "code",
   "execution_count": 4,
   "metadata": {},
   "outputs": [
    {
     "data": {
      "text/plain": [
       "['label',\n",
       " 'sentence',\n",
       " 'Tokenizer_4b1e995bf9d918943daa__output',\n",
       " 'CountVectorizer_482a8668e05bdf547880__output',\n",
       " 'LogisticRegression_49e3ac5b332b20698ea9__rawPrediction',\n",
       " 'LogisticRegression_49e3ac5b332b20698ea9__probability',\n",
       " 'LogisticRegression_49e3ac5b332b20698ea9__prediction']"
      ]
     },
     "execution_count": 4,
     "metadata": {},
     "output_type": "execute_result"
    }
   ],
   "source": [
    "df_predict.columns"
   ]
  },
  {
   "cell_type": "markdown",
   "metadata": {},
   "source": [
    "The names are long because those are the uid for each step in the pipeline. So lets see the prediction compared with the actual labels:"
   ]
  },
  {
   "cell_type": "code",
   "execution_count": 5,
   "metadata": {},
   "outputs": [
    {
     "name": "stdout",
     "output_type": "stream",
     "text": [
      "+-----+---------------------------------------------------+\n",
      "|label|LogisticRegression_49e3ac5b332b20698ea9__prediction|\n",
      "+-----+---------------------------------------------------+\n",
      "|  0.0|                                                0.0|\n",
      "|  1.0|                                                1.0|\n",
      "+-----+---------------------------------------------------+\n",
      "\n"
     ]
    }
   ],
   "source": [
    "transformer = op.DataFrameTransformer(df_predict)\n",
    "transformer.select_idx([0,6]).show()"
   ]
  },
  {
   "cell_type": "markdown",
   "metadata": {},
   "source": [
    "So we just did ML with a single line in Optimus. The model is also exposed in the ml_model variable so you can save it and evaluate it."
   ]
  },
  {
   "cell_type": "markdown",
   "metadata": {},
   "source": [
    "## ml.n_gram(df, input_col, n=2)\n",
    "\n",
    "\n",
    "This method converts the input array of strings inside of a Spark DF into an array of n-grams. The default n is 2 so\n",
    "it will produce bi-grams.\n",
    "\n",
    "Let's create a sample dataframe to see how it works."
   ]
  },
  {
   "cell_type": "code",
   "execution_count": 6,
   "metadata": {
    "collapsed": true
   },
   "outputs": [],
   "source": [
    "# Import Row from pyspark\n",
    "from pyspark.sql import Row,types\n",
    "# Importing Optimus\n",
    "import optimus as op\n",
    "\n",
    "df = op.sc. \\\n",
    "parallelize([['this is the best sentence ever'],\n",
    "             ['this is however the worst sentence available']]). \\\n",
    "toDF(schema=types.StructType().add('sentence', types.StringType()))\n",
    "\n",
    "df_predict, model = op.ml.n_gram(df, input_col=\"sentence\", n=2)"
   ]
  },
  {
   "cell_type": "markdown",
   "metadata": {},
   "source": [
    "The columns of df_predict are:"
   ]
  },
  {
   "cell_type": "code",
   "execution_count": 7,
   "metadata": {},
   "outputs": [
    {
     "data": {
      "text/plain": [
       "['sentence',\n",
       " 'Tokenizer_415c94e7281fd4d4e535__output',\n",
       " 'StopWordsRemover_45cfa9ddb971970a63f4__output',\n",
       " 'CountVectorizer_46f98238d341b26a14d0__output',\n",
       " 'NGram_4a2cbc3ad833033d2712__output',\n",
       " 'CountVectorizer_49c5aebb7aa333e4c1d3__output',\n",
       " 'VectorAssembler_43edae0cdd996321ada3__output',\n",
       " 'features']"
      ]
     },
     "execution_count": 7,
     "metadata": {},
     "output_type": "execute_result"
    }
   ],
   "source": [
    "df_predict.columns"
   ]
  },
  {
   "cell_type": "markdown",
   "metadata": {},
   "source": [
    "So lets see the bi-grams (we can change n as we want) for the sentences:"
   ]
  },
  {
   "cell_type": "code",
   "execution_count": 10,
   "metadata": {},
   "outputs": [
    {
     "name": "stdout",
     "output_type": "stream",
     "text": [
      "+--------------------------------------------+---------------------------------------------------+\n",
      "|sentence                                    |NGram_4a2cbc3ad833033d2712__output                 |\n",
      "+--------------------------------------------+---------------------------------------------------+\n",
      "|this is the best sentence ever              |[best sentence, sentence ever]                     |\n",
      "|this is however the worst sentence available|[however worst, worst sentence, sentence available]|\n",
      "+--------------------------------------------+---------------------------------------------------+\n",
      "\n"
     ]
    }
   ],
   "source": [
    "transformer = op.DataFrameTransformer(df_predict)\n",
    "transformer.select_idx([0,4]).show(truncate=False)"
   ]
  },
  {
   "cell_type": "markdown",
   "metadata": {},
   "source": [
    "And that's it. N-grams with only one line of code.\n",
    "\n",
    "Above we've been using the Pyspark Pipes definitions of Daniel Acuña, that he merged with Optimus, and because\n",
    "we use multiple pipelines we need those big names for the resulting columns, so we can know which uid correspond\n",
    "to each step."
   ]
  },
  {
   "cell_type": "markdown",
   "metadata": {},
   "source": [
    "# Tree models with Optimus"
   ]
  },
  {
   "cell_type": "markdown",
   "metadata": {},
   "source": [
    "You can build Decision Trees, Random Forest models and also Gradient Boosted Trees with just one line of code in Optimus. Let’s download some sample data for analysis.\n",
    "\n",
    "We got this dataset from Kaggle. The features are computed from a digitized image of a fine needle aspirate (FNA) of a breast mass. They describe characteristics of the cell nuclei present in the image. n the 3-dimensional space is that described in: [K. P. Bennett and O. L. Mangasarian: “Robust Linear Programming Discrimination of Two Linearly Inseparable Sets”, Optimization Methods and Software 1, 1992, 23-34].\n",
    "\n",
    "Let’s download it with Optimus and save it into a DF:"
   ]
  },
  {
   "cell_type": "code",
   "execution_count": 11,
   "metadata": {},
   "outputs": [
    {
     "name": "stdout",
     "output_type": "stream",
     "text": [
      "Downloading 'data_cancer.csv' from https://raw.githubusercontent.com/ironmussa/Optimus/master/tests/data_cancer.csv\n",
      "Downloaded 125205 bytes\n",
      "Creating pySpark DataFrame for 'data_cancer.csv'. Please wait...\n",
      "Loading file using 'SparkSession'\n",
      "Successfully created pySpark DataFrame for 'data_cancer.csv'\n"
     ]
    }
   ],
   "source": [
    "# Importing Optimus utils\n",
    "tools = op.Utilities()\n",
    "\n",
    "# Downloading and creating Spark DF\n",
    "df = tools.read_url(\"https://raw.githubusercontent.com/ironmussa/Optimus/master/tests/data_cancer.csv\")"
   ]
  },
  {
   "cell_type": "markdown",
   "metadata": {},
   "source": [
    "We’ll choose some columns to run the Machine Learning models:"
   ]
  },
  {
   "cell_type": "code",
   "execution_count": 12,
   "metadata": {
    "collapsed": true
   },
   "outputs": [],
   "source": [
    "columns = ['diagnosis', 'radius_mean', 'texture_mean', 'perimeter_mean', 'area_mean', 'smoothness_mean',\n",
    "           'compactness_mean', 'concavity_mean', 'concave points_mean', 'symmetry_mean','fractal_dimension_mean']"
   ]
  },
  {
   "cell_type": "markdown",
   "metadata": {},
   "source": [
    "## ml.decision_tree(df, columns, input_col)"
   ]
  },
  {
   "cell_type": "code",
   "execution_count": 13,
   "metadata": {
    "collapsed": true
   },
   "outputs": [],
   "source": [
    "df_predict, dt_model = op.ml.decision_tree(df, columns, \"diagnosis\")"
   ]
  },
  {
   "cell_type": "code",
   "execution_count": 14,
   "metadata": {},
   "outputs": [
    {
     "name": "stdout",
     "output_type": "stream",
     "text": [
      "+-----+---------+-----------+------------+--------------+---------+---------------+----------------+--------------+-------------------+-------------+----------------------+--------------------+-------------+--------------------+----------+\n",
      "|label|diagnosis|radius_mean|texture_mean|perimeter_mean|area_mean|smoothness_mean|compactness_mean|concavity_mean|concave points_mean|symmetry_mean|fractal_dimension_mean|            features|rawPrediction|         probability|prediction|\n",
      "+-----+---------+-----------+------------+--------------+---------+---------------+----------------+--------------+-------------------+-------------+----------------------+--------------------+-------------+--------------------+----------+\n",
      "|  1.0|        M|      17.99|       10.38|         122.8|   1001.0|         0.1184|          0.2776|        0.3001|             0.1471|       0.2419|               0.07871|[17.99,10.38,122....|    [0.0,6.0]|           [0.0,1.0]|       1.0|\n",
      "|  1.0|        M|      20.57|       17.77|         132.9|   1326.0|        0.08474|         0.07864|        0.0869|            0.07017|       0.1812|               0.05667|[20.57,17.77,132....|  [0.0,142.0]|           [0.0,1.0]|       1.0|\n",
      "|  1.0|        M|      19.69|       21.25|         130.0|   1203.0|         0.1096|          0.1599|        0.1974|             0.1279|       0.2069|               0.05999|[19.69,21.25,130....|  [0.0,142.0]|           [0.0,1.0]|       1.0|\n",
      "|  1.0|        M|      11.42|       20.38|         77.58|    386.1|         0.1425|          0.2839|        0.2414|             0.1052|       0.2597|               0.09744|[11.42,20.38,77.5...|    [0.0,8.0]|           [0.0,1.0]|       1.0|\n",
      "|  1.0|        M|      20.29|       14.34|         135.1|   1297.0|         0.1003|          0.1328|         0.198|             0.1043|       0.1809|               0.05883|[20.29,14.34,135....|    [0.0,6.0]|           [0.0,1.0]|       1.0|\n",
      "|  1.0|        M|      12.45|        15.7|         82.57|    477.1|         0.1278|            0.17|        0.1578|            0.08089|       0.2087|               0.07613|[12.45,15.7,82.57...|    [0.0,8.0]|           [0.0,1.0]|       1.0|\n",
      "|  1.0|        M|      18.25|       19.98|         119.6|   1040.0|        0.09463|           0.109|        0.1127|              0.074|       0.1794|               0.05742|[18.25,19.98,119....|  [0.0,142.0]|           [0.0,1.0]|       1.0|\n",
      "|  1.0|        M|      13.71|       20.83|          90.2|    577.9|         0.1189|          0.1645|       0.09366|            0.05985|       0.2196|               0.07451|[13.71,20.83,90.2...|   [5.0,29.0]|[0.14705882352941...|       1.0|\n",
      "|  1.0|        M|       13.0|       21.82|          87.5|    519.8|         0.1273|          0.1932|        0.1859|            0.09353|        0.235|               0.07389|[13.0,21.82,87.5,...|    [0.0,8.0]|           [0.0,1.0]|       1.0|\n",
      "|  1.0|        M|      12.46|       24.04|         83.97|    475.9|         0.1186|          0.2396|        0.2273|            0.08543|        0.203|               0.08243|[12.46,24.04,83.9...|    [0.0,8.0]|           [0.0,1.0]|       1.0|\n",
      "|  1.0|        M|      16.02|       23.24|         102.7|    797.8|        0.08206|         0.06669|       0.03299|            0.03323|       0.1528|               0.05697|[16.02,23.24,102....|    [0.0,9.0]|           [0.0,1.0]|       1.0|\n",
      "|  1.0|        M|      15.78|       17.89|         103.6|    781.0|         0.0971|          0.1292|       0.09954|            0.06606|       0.1842|               0.06082|[15.78,17.89,103....|  [0.0,142.0]|           [0.0,1.0]|       1.0|\n",
      "|  1.0|        M|      19.17|        24.8|         132.4|   1123.0|         0.0974|          0.2458|        0.2065|             0.1118|       0.2397|                 0.078|[19.17,24.8,132.4...|  [0.0,142.0]|           [0.0,1.0]|       1.0|\n",
      "|  1.0|        M|      15.85|       23.95|         103.7|    782.7|        0.08401|          0.1002|       0.09938|            0.05364|       0.1847|               0.05338|[15.85,23.95,103....|  [0.0,142.0]|           [0.0,1.0]|       1.0|\n",
      "|  1.0|        M|      13.73|       22.61|          93.6|    578.3|         0.1131|          0.2293|        0.2128|            0.08025|       0.2069|               0.07682|[13.73,22.61,93.6...|   [5.0,29.0]|[0.14705882352941...|       1.0|\n",
      "|  1.0|        M|      14.54|       27.54|         96.73|    658.8|         0.1139|          0.1595|        0.1639|            0.07364|       0.2303|               0.07077|[14.54,27.54,96.7...|   [5.0,29.0]|[0.14705882352941...|       1.0|\n",
      "|  1.0|        M|      14.68|       20.13|         94.74|    684.5|        0.09867|           0.072|       0.07395|            0.05259|       0.1586|               0.05922|[14.68,20.13,94.7...|    [0.0,4.0]|           [0.0,1.0]|       1.0|\n",
      "|  1.0|        M|      16.13|       20.68|         108.1|    798.8|          0.117|          0.2022|        0.1722|             0.1028|       0.2164|               0.07356|[16.13,20.68,108....|  [0.0,142.0]|           [0.0,1.0]|       1.0|\n",
      "|  1.0|        M|      19.81|       22.15|         130.0|   1260.0|        0.09831|          0.1027|        0.1479|            0.09498|       0.1582|               0.05395|[19.81,22.15,130....|  [0.0,142.0]|           [0.0,1.0]|       1.0|\n",
      "|  0.0|        B|      13.54|       14.36|         87.46|    566.3|        0.09779|         0.08129|       0.06664|            0.04781|       0.1885|               0.05766|[13.54,14.36,87.4...|   [31.0,2.0]|[0.93939393939393...|       0.0|\n",
      "+-----+---------+-----------+------------+--------------+---------+---------------+----------------+--------------+-------------------+-------------+----------------------+--------------------+-------------+--------------------+----------+\n",
      "only showing top 20 rows\n",
      "\n"
     ]
    }
   ],
   "source": [
    "df_predict.show()"
   ]
  },
  {
   "cell_type": "code",
   "execution_count": 15,
   "metadata": {},
   "outputs": [
    {
     "name": "stdout",
     "output_type": "stream",
     "text": [
      "0.9893967020770572\n"
     ]
    }
   ],
   "source": [
    "from pyspark.ml.evaluation import BinaryClassificationEvaluator\n",
    "\n",
    "\n",
    "evaluator = BinaryClassificationEvaluator(\n",
    "    labelCol='label')\n",
    "print(evaluator.evaluate(df_predict, \n",
    "     {evaluator.metricName: \"areaUnderROC\"}))"
   ]
  },
  {
   "cell_type": "markdown",
   "metadata": {},
   "source": [
    "## ml.random_forest(df, columns, input_col)\n",
    "\n",
    "One of the best tree models for machine learning is Random Forest. What about creating a RF model with just\n",
    "one line? With Optimus is really easy.\n",
    "\n",
    "Let's download some sample data for analysis."
   ]
  },
  {
   "cell_type": "code",
   "execution_count": null,
   "metadata": {
    "collapsed": true
   },
   "outputs": [],
   "source": [
    "# Downloading and creating Spark DF\n",
    "df = tools.read_url(\"https://raw.githubusercontent.com/ironmussa/Optimus/master/tests/data_cancer.csv\")"
   ]
  },
  {
   "cell_type": "code",
   "execution_count": 17,
   "metadata": {},
   "outputs": [],
   "source": [
    "df_predict, rf_model = op.ml.random_forest(df, columns, \"diagnosis\")"
   ]
  },
  {
   "cell_type": "markdown",
   "metadata": {},
   "source": [
    "This will create a DataFrame with the predictions of the Random Forest model.\n",
    "\n",
    "Let's see df_predict:"
   ]
  },
  {
   "cell_type": "code",
   "execution_count": 18,
   "metadata": {},
   "outputs": [
    {
     "data": {
      "text/plain": [
       "['label',\n",
       " 'diagnosis',\n",
       " 'radius_mean',\n",
       " 'texture_mean',\n",
       " 'perimeter_mean',\n",
       " 'area_mean',\n",
       " 'smoothness_mean',\n",
       " 'compactness_mean',\n",
       " 'concavity_mean',\n",
       " 'concave points_mean',\n",
       " 'symmetry_mean',\n",
       " 'fractal_dimension_mean',\n",
       " 'features',\n",
       " 'rawPrediction',\n",
       " 'probability',\n",
       " 'prediction']"
      ]
     },
     "execution_count": 18,
     "metadata": {},
     "output_type": "execute_result"
    }
   ],
   "source": [
    "df_predict.columns"
   ]
  },
  {
   "cell_type": "markdown",
   "metadata": {},
   "source": [
    "So lets see the prediction compared with the actual label:"
   ]
  },
  {
   "cell_type": "code",
   "execution_count": 20,
   "metadata": {},
   "outputs": [
    {
     "name": "stdout",
     "output_type": "stream",
     "text": [
      "+-----+----------+\n",
      "|label|prediction|\n",
      "+-----+----------+\n",
      "|  1.0|       1.0|\n",
      "|  1.0|       1.0|\n",
      "|  1.0|       1.0|\n",
      "|  1.0|       1.0|\n",
      "|  1.0|       1.0|\n",
      "|  1.0|       1.0|\n",
      "|  1.0|       1.0|\n",
      "|  1.0|       1.0|\n",
      "|  1.0|       1.0|\n",
      "|  1.0|       1.0|\n",
      "+-----+----------+\n",
      "only showing top 10 rows\n",
      "\n"
     ]
    }
   ],
   "source": [
    "transformer = op.DataFrameTransformer(df_predict)\n",
    "transformer.select_idx([0,15]).show()"
   ]
  },
  {
   "cell_type": "code",
   "execution_count": 21,
   "metadata": {},
   "outputs": [
    {
     "name": "stdout",
     "output_type": "stream",
     "text": [
      "0.9970138998995824\n"
     ]
    }
   ],
   "source": [
    "from pyspark.ml.evaluation import BinaryClassificationEvaluator\n",
    "\n",
    "\n",
    "evaluator = BinaryClassificationEvaluator(\n",
    "    labelCol='label')\n",
    "print(evaluator.evaluate(df_predict, \n",
    "     {evaluator.metricName: \"areaUnderROC\"}))"
   ]
  },
  {
   "cell_type": "markdown",
   "metadata": {},
   "source": [
    "## ml.gbt(df, columns, input_col)"
   ]
  },
  {
   "cell_type": "code",
   "execution_count": null,
   "metadata": {
    "collapsed": true
   },
   "outputs": [],
   "source": [
    "# Downloading and creating Spark DF\n",
    "df = tools.read_url(\"https://raw.githubusercontent.com/ironmussa/Optimus/master/tests/data_cancer.csv\")"
   ]
  },
  {
   "cell_type": "code",
   "execution_count": 23,
   "metadata": {},
   "outputs": [],
   "source": [
    "df_predict, gbt_model = op.ml.gbt(df, columns, \"diagnosis\")"
   ]
  },
  {
   "cell_type": "markdown",
   "metadata": {},
   "source": [
    "This will create a DataFrame with the predictions of the Gradient Boosted Trees model.\n",
    "\n",
    "Let's see df_predict:"
   ]
  },
  {
   "cell_type": "code",
   "execution_count": 24,
   "metadata": {},
   "outputs": [
    {
     "data": {
      "text/plain": [
       "['label',\n",
       " 'diagnosis',\n",
       " 'radius_mean',\n",
       " 'texture_mean',\n",
       " 'perimeter_mean',\n",
       " 'area_mean',\n",
       " 'smoothness_mean',\n",
       " 'compactness_mean',\n",
       " 'concavity_mean',\n",
       " 'concave points_mean',\n",
       " 'symmetry_mean',\n",
       " 'fractal_dimension_mean',\n",
       " 'features',\n",
       " 'rawPrediction',\n",
       " 'probability',\n",
       " 'prediction']"
      ]
     },
     "execution_count": 24,
     "metadata": {},
     "output_type": "execute_result"
    }
   ],
   "source": [
    "df_predict.columns"
   ]
  },
  {
   "cell_type": "code",
   "execution_count": 26,
   "metadata": {
    "scrolled": true
   },
   "outputs": [
    {
     "name": "stdout",
     "output_type": "stream",
     "text": [
      "+-----+----------+\n",
      "|label|prediction|\n",
      "+-----+----------+\n",
      "|  1.0|       1.0|\n",
      "|  1.0|       1.0|\n",
      "|  1.0|       1.0|\n",
      "|  1.0|       1.0|\n",
      "|  1.0|       1.0|\n",
      "|  1.0|       1.0|\n",
      "|  1.0|       1.0|\n",
      "|  1.0|       1.0|\n",
      "|  1.0|       1.0|\n",
      "|  1.0|       1.0|\n",
      "+-----+----------+\n",
      "only showing top 10 rows\n",
      "\n"
     ]
    }
   ],
   "source": [
    "transformer = op.DataFrameTransformer(df_predict)\n",
    "transformer.select_idx([0,15]).show()"
   ]
  },
  {
   "cell_type": "code",
   "execution_count": 27,
   "metadata": {},
   "outputs": [
    {
     "name": "stdout",
     "output_type": "stream",
     "text": [
      "1.0\n"
     ]
    }
   ],
   "source": [
    "from pyspark.ml.evaluation import BinaryClassificationEvaluator\n",
    "\n",
    "\n",
    "evaluator = BinaryClassificationEvaluator(\n",
    "    labelCol='label')\n",
    "print(evaluator.evaluate(df_predict, \n",
    "     {evaluator.metricName: \"areaUnderROC\"}))"
   ]
  },
  {
   "cell_type": "code",
   "execution_count": null,
   "metadata": {
    "collapsed": true
   },
   "outputs": [],
   "source": []
  }
 ],
 "metadata": {
  "anaconda-cloud": {},
  "kernelspec": {
   "display_name": "Python 3",
   "language": "python",
   "name": "python3"
  },
  "language_info": {
   "codemirror_mode": {
    "name": "ipython",
    "version": 3
   },
   "file_extension": ".py",
   "mimetype": "text/x-python",
   "name": "python",
   "nbconvert_exporter": "python",
   "pygments_lexer": "ipython3",
   "version": "3.6.1"
  }
 },
 "nbformat": 4,
 "nbformat_minor": 2
}
