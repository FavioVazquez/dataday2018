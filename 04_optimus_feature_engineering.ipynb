{
 "cells": [
  {
   "cell_type": "markdown",
   "metadata": {},
   "source": [
    "Feature Engineering with Optimus\n",
    "==================================\n",
    "\n",
    "When we talk about Feature Engineering we refer to creating new features from your existing ones to improve model\n",
    "performance. Sometimes this is the case, or sometimes you need to do it because a certain model doesn't recognize\n",
    "the data as you have it, so these transformations let you run most of Machine and Deep Learning algorithms.\n",
    "\n",
    "These methods are part of the DataFrameTransformer, and they are a high level of abstraction for Spark Feature\n",
    "Engineering methods. You'll see how easy it is to prepare your data with Optimus for Machine Learning.\n",
    "\n",
    "\n",
    "Methods for Feature Engineering\n",
    "---------------------------------\n",
    "\n",
    "## - Transformer.string_to_index(input_cols)"
   ]
  },
  {
   "cell_type": "markdown",
   "metadata": {},
   "source": [
    "This method maps a string column of labels to an ML column of label indices. If the input column is numeric, we cast it\n",
    "to string and index the string values.\n",
    "\n",
    "``input_cols`` argument receives a list of columns to be indexed.\n",
    "\n",
    "Let's start by creating a DataFrame with Optimus."
   ]
  },
  {
   "cell_type": "code",
   "execution_count": null,
   "metadata": {
    "collapsed": true
   },
   "outputs": [],
   "source": [
    "# Importing Optimus\n",
    "import optimus as op\n",
    "#Importing utilities\n",
    "tools = op.Utilities()"
   ]
  },
  {
   "cell_type": "code",
   "execution_count": null,
   "metadata": {
    "collapsed": true
   },
   "outputs": [],
   "source": [
    "# Creating DF with Optimus\n",
    "data = [('Japan', 'Tokyo', 37800000),('USA', 'New York', 19795791),('France', 'Paris', 12341418),\n",
    "              ('Spain','Madrid',6489162)]\n",
    "df = tools.create_data_frame(data, [\"country\", \"city\", \"population\"])\n",
    "\n",
    "# Instantiating transformer\n",
    "transformer = op.DataFrameTransformer(df)\n",
    "\n",
    "# Show DF\n",
    "transformer.show()"
   ]
  },
  {
   "cell_type": "code",
   "execution_count": null,
   "metadata": {
    "collapsed": true
   },
   "outputs": [],
   "source": [
    "# Indexing columns 'city\" and 'country'\n",
    "transformer.string_to_index([\"city\", \"country\"])\n",
    "\n",
    "# Show indexed DF\n",
    "transformer.show()"
   ]
  },
  {
   "cell_type": "markdown",
   "metadata": {},
   "source": [
    "## - Transformer.index_to_string(input_cols)"
   ]
  },
  {
   "cell_type": "markdown",
   "metadata": {},
   "source": [
    "This method maps a column of indices back to a new column of corresponding string values. The index-string mapping is\n",
    "either from the ML (Spark) attributes of the input column, or from user-supplied labels (which take precedence over\n",
    "ML attributes).\n",
    "\n",
    "``input_cols`` argument receives a list of columns to be indexed.\n",
    "\n",
    "Let's go back to strings with the DataFrame we created in the last step."
   ]
  },
  {
   "cell_type": "code",
   "execution_count": null,
   "metadata": {
    "collapsed": true
   },
   "outputs": [],
   "source": [
    "# Instantiating transformer\n",
    "transformer = op.DataFrameTransformer(df)\n",
    "\n",
    "# Show DF\n",
    "transformer.show()"
   ]
  },
  {
   "cell_type": "code",
   "execution_count": null,
   "metadata": {
    "collapsed": true
   },
   "outputs": [],
   "source": [
    "# Indexing columns 'city\" and 'country'\n",
    "transformer.string_to_index([\"city\", \"country\"])\n",
    "\n",
    "# Show indexed DF\n",
    "transformer.show()"
   ]
  },
  {
   "cell_type": "code",
   "execution_count": null,
   "metadata": {
    "collapsed": true
   },
   "outputs": [],
   "source": [
    "# Going back to strings from index\n",
    "transformer.index_to_string([\"country_index\"])\n",
    "\n",
    "# Show DF with column \"county_index\" back to string\n",
    "transformer.show()"
   ]
  },
  {
   "cell_type": "markdown",
   "metadata": {},
   "source": [
    "## - Transformer.one_hot_encoder(input_cols)"
   ]
  },
  {
   "cell_type": "markdown",
   "metadata": {},
   "source": [
    "This method maps a column of label indices to a column of binary vectors, with at most a single one-value.\n",
    "\n",
    "``input_cols`` argument receives a list of columns to be encoded.\n",
    "\n",
    "Let's create a sample dataframe to see what OHE does:"
   ]
  },
  {
   "cell_type": "code",
   "execution_count": null,
   "metadata": {
    "attributes": {
     "classes": [
      "~"
     ],
     "id": ""
    },
    "collapsed": true
   },
   "outputs": [],
   "source": [
    "# Creating DataFrame\n",
    "data = [\n",
    "(0, \"a\"),\n",
    "(1, \"b\"),\n",
    "(2, \"c\"),\n",
    "(3, \"a\"),\n",
    "(4, \"a\"),\n",
    "(5, \"c\")\n",
    "]\n",
    "df = tools.create_data_frame(data,[\"id\", \"category\"])\n",
    "\n",
    "# Instantiating the transformer\n",
    "transformer = op.DataFrameTransformer(df)\n",
    "\n",
    "# One Hot Encoding\n",
    "transformer.one_hot_encoder([\"id\"])\n",
    "\n",
    "# Show encoded dataframe\n",
    "transformer.show()"
   ]
  },
  {
   "cell_type": "markdown",
   "metadata": {},
   "source": [
    "## - Transformer.sql(sql_expression)\n",
    "\n",
    "This method implements the transformations which are defined by SQL statement. Spark only support\n",
    "SQL syntax like \"SELECT ... FROM __THIS__ ...\" where \"__THIS__\" represents the\n",
    "underlying table of the input dataframe. Thank Spark for this amazing function.\n",
    "\n",
    "`sql_expression` argument receives a string that contains SQL expression.\n",
    "\n",
    "Let's create a sample DataFrame to test this function."
   ]
  },
  {
   "cell_type": "code",
   "execution_count": null,
   "metadata": {
    "collapsed": true
   },
   "outputs": [],
   "source": [
    "# Creating DataFrame\n",
    "data = [\n",
    "(0, 1.0, 3.0),\n",
    "(2, 2.0, 5.0)\n",
    "]\n",
    "\n",
    "df = tools.create_data_frame(data,[\"id\", \"v1\", \"v2\"])\n",
    "\n",
    "# Instantiating the transformer\n",
    "transformer = op.DataFrameTransformer(df)\n",
    "\n",
    "transformer.show()"
   ]
  },
  {
   "cell_type": "markdown",
   "metadata": {},
   "source": [
    "Now let's create two new columns from these ones. The first will be the sum of the columns `v1` and `v2`, and\n",
    "the second one will be the multiplication of this two columns. With the `sql()` function we just need to\n",
    "pass the sql expression and use at the end `FROM __THIS__` that will be the underlying table of the input dataframe.\n",
    "\n",
    "So:"
   ]
  },
  {
   "cell_type": "code",
   "execution_count": null,
   "metadata": {
    "collapsed": true
   },
   "outputs": [],
   "source": [
    "transformer.sql(\"SELECT *, (v1 + v2) AS v3, (v1 * v2) AS v4 FROM __THIS__\")"
   ]
  },
  {
   "cell_type": "code",
   "execution_count": null,
   "metadata": {
    "collapsed": true
   },
   "outputs": [],
   "source": [
    "transformer.show()"
   ]
  },
  {
   "cell_type": "markdown",
   "metadata": {},
   "source": [
    "## - Transformer.vector_assembler(input_cols)"
   ]
  },
  {
   "cell_type": "markdown",
   "metadata": {},
   "source": [
    "This method combines a given list of columns into a single vector column.\n",
    "\n",
    "``input_cols`` argument receives a list of columns to be encoded.\n",
    "\n",
    "This is very important because lots of Machine Learning algorithms in Spark need this format to work.\n",
    "\n",
    "Let's create a sample dataframe to see what vector assembler does:"
   ]
  },
  {
   "cell_type": "code",
   "execution_count": null,
   "metadata": {
    "collapsed": true
   },
   "outputs": [],
   "source": [
    "# Import Vectors\n",
    "from pyspark.ml.linalg import Vectors\n",
    "\n",
    "# Creating DataFrame\n",
    "data = [(0, 18, 1.0, Vectors.dense([0.0, 10.0, 0.5]), 1.0)]\n",
    "\n",
    "df = tools.create_data_frame(data,[\"id\", \"hour\", \"mobile\", \"user_features\", \"clicked\"])\n",
    "\n",
    "df.show()"
   ]
  },
  {
   "cell_type": "code",
   "execution_count": null,
   "metadata": {
    "collapsed": true
   },
   "outputs": [],
   "source": [
    "# Instantiating the transformer\n",
    "transformer = op.DataFrameTransformer(df)\n",
    "\n",
    "# Assemble features\n",
    "transformer.vector_assembler([\"hour\", \"mobile\", \"user_features\"])\n",
    "\n",
    "\n",
    "# Show assembled df\n",
    "print(\"Assembled columns 'hour', 'mobile', 'user_features' to vector column 'features'\")\n",
    "transformer.df.select(\"features\", \"clicked\").show(truncate=False)"
   ]
  },
  {
   "cell_type": "markdown",
   "metadata": {},
   "source": [
    "## - Transformer.normalizer(input_cols,p=2.0)\n",
    "\n",
    "\n",
    "This method transforms a dataset of Vector rows, normalizing each Vector to have unit norm. It takes parameter p, which\n",
    "specifies the p-norm used for normalization. (p=2) by default.\n",
    "\n",
    "``input_cols`` argument receives a list of columns to be normalized.\n",
    "\n",
    "``p`` argument is the p-norm used for normalization.\n",
    "\n",
    "Let's create a sample dataframe to see what normalizer does:"
   ]
  },
  {
   "cell_type": "code",
   "execution_count": null,
   "metadata": {
    "collapsed": true
   },
   "outputs": [],
   "source": [
    "# Importing Optimus\n",
    "import optimus as op\n",
    "#Importing utilities\n",
    "tools = op.Utilities()\n",
    "# Import Vectors\n",
    "from pyspark.ml.linalg import Vectors\n",
    "\n",
    "data = [\n",
    "(0, Vectors.dense([1.0, 0.5, -1.0]),),\n",
    "(1, Vectors.dense([2.0, 1.0, 1.0]),),\n",
    "(2, Vectors.dense([4.0, 10.0, 2.0]),)\n",
    "]\n",
    "\n",
    "df = tools.create_data_frame(data,[\"id\", \"features\"])\n",
    "\n",
    "transformer = op.DataFrameTransformer(df)\n",
    "\n",
    "transformer.show()"
   ]
  },
  {
   "cell_type": "code",
   "execution_count": null,
   "metadata": {
    "collapsed": true
   },
   "outputs": [],
   "source": [
    "transformer.normalizer([\"features\"], p=1.0).show(truncate=False)"
   ]
  }
 ],
 "metadata": {
  "kernelspec": {
   "display_name": "Python 3",
   "language": "python",
   "name": "python3"
  },
  "language_info": {
   "codemirror_mode": {
    "name": "ipython",
    "version": 3
   },
   "file_extension": ".py",
   "mimetype": "text/x-python",
   "name": "python",
   "nbconvert_exporter": "python",
   "pygments_lexer": "ipython3",
   "version": "3.6.1"
  }
 },
 "nbformat": 4,
 "nbformat_minor": 2
}
